{
 "cells": [
  {
   "cell_type": "code",
   "execution_count": 1,
   "id": "8e667a56",
   "metadata": {},
   "outputs": [
    {
     "name": "stderr",
     "output_type": "stream",
     "text": [
      "2022-12-02 14:33:07.108012: I tensorflow/core/platform/cpu_feature_guard.cc:193] This TensorFlow binary is optimized with oneAPI Deep Neural Network Library (oneDNN) to use the following CPU instructions in performance-critical operations:  AVX2 FMA\n",
      "To enable them in other operations, rebuild TensorFlow with the appropriate compiler flags.\n"
     ]
    }
   ],
   "source": [
    "import mnist_reader \n",
    "import tensorflow as tf\n",
    "import numpy as np\n",
    "import matplotlib.pyplot as plt\n",
    "from matplotlib.pyplot import figure\n",
    "import pandas as pd\n",
    "import seaborn as sns\n",
    "from skimage import io\n",
    "\n",
    "from matplotlib.colors import LogNorm\n",
    "%matplotlib inline\n",
    "from sklearn.mixture import GaussianMixture\n",
    "from sklearn.cluster import KMeans\n",
    "from scipy.stats import multivariate_normal    \n",
    "\n",
    "\n",
    "\n",
    "from IPython.display import Video\n",
    "from sklearn.datasets import fetch_openml\n",
    "from sklearn.datasets import make_moons, make_circles, make_classification\n",
    "from sklearn.preprocessing import StandardScaler"
   ]
  },
  {
   "cell_type": "code",
   "execution_count": 2,
   "id": "574f0bc1",
   "metadata": {},
   "outputs": [],
   "source": [
    "#importting data from tf.keras\n",
    "fashion_mnist = tf.keras.datasets.fashion_mnist\n",
    "(Xtrain, Ytrain), (Xtest, Ytest) = fashion_mnist.load_data()"
   ]
  },
  {
   "cell_type": "code",
   "execution_count": null,
   "id": "82b8390c",
   "metadata": {},
   "outputs": [],
   "source": [
    "#scaling training and reshaping data set \n",
    "Xtrain_shaped = Xtrain.reshape(Xtrain.shape[0], -1)\n",
    "Xtest_shaped = Xtest.reshape(Xtest.shape[0], -1)\n",
    "\n",
    "Xtrain_std = Xtrain_shaped/ 255\n",
    "Xtest_std= Xtest_shaped / 255\n",
    "\n",
    "Xtrain_std = Xtrain_std[:10000]\n",
    "Ytrain = Ytrain[:10000]\n"
   ]
  },
  {
   "cell_type": "code",
   "execution_count": null,
   "id": "f9a95892",
   "metadata": {},
   "outputs": [],
   "source": []
  }
 ],
 "metadata": {
  "kernelspec": {
   "display_name": "Python 3 (ipykernel)",
   "language": "python",
   "name": "python3"
  },
  "language_info": {
   "codemirror_mode": {
    "name": "ipython",
    "version": 3
   },
   "file_extension": ".py",
   "mimetype": "text/x-python",
   "name": "python",
   "nbconvert_exporter": "python",
   "pygments_lexer": "ipython3",
   "version": "3.9.12"
  }
 },
 "nbformat": 4,
 "nbformat_minor": 5
}

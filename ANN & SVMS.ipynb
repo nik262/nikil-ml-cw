{
 "cells": [
  {
   "cell_type": "code",
   "execution_count": 1,
   "id": "44be3396",
   "metadata": {},
   "outputs": [
    {
     "name": "stderr",
     "output_type": "stream",
     "text": [
      "2022-12-05 17:16:40.030756: I tensorflow/core/platform/cpu_feature_guard.cc:193] This TensorFlow binary is optimized with oneAPI Deep Neural Network Library (oneDNN) to use the following CPU instructions in performance-critical operations:  AVX2 FMA\n",
      "To enable them in other operations, rebuild TensorFlow with the appropriate compiler flags.\n"
     ]
    }
   ],
   "source": [
    "import mnist_reader \n",
    "import tensorflow as tf\n",
    "from tensorflow.keras.utils import to_categorical\n",
    "from matplotlib.pyplot import figure\n",
    "import pandas as pd\n",
    "import seaborn as sns\n",
    "from skimage import io\n",
    "\n",
    "\n",
    "\n",
    "\n",
    "import numpy as np\n",
    "import matplotlib.pyplot as plt\n",
    "from matplotlib.colors import ListedColormap\n",
    "from sklearn.linear_model import LinearRegression, LogisticRegression\n",
    "from sklearn.model_selection import learning_curve\n",
    "from sklearn.preprocessing import PolynomialFeatures\n",
    "from sklearn.neural_network import MLPClassifier\n",
    "from sklearn.metrics import plot_confusion_matrix\n",
    "from sklearn.model_selection import GridSearchCV, RandomizedSearchCV\n",
    "from sklearn.svm import SVC\n",
    "from sklearn.datasets import make_moons\n",
    "\n",
    "import h5py\n",
    "import imageio\n",
    "from PIL import Image \n",
    "from utils import * # image processing functions from utils.py"
   ]
  },
  {
   "cell_type": "code",
   "execution_count": 2,
   "id": "c0039812",
   "metadata": {},
   "outputs": [],
   "source": [
    "fashion_mnist = tf.keras.datasets.fashion_mnist\n",
    "(Xtrain, Ytrain), (Xtest, Ytest) = fashion_mnist.load_data()\n",
    "\n",
    "\n",
    "# Ytrain = to_categorical(Ytrain, num_classes=10)\n",
    "\n",
    "# Ytest = to_categorical(Ytest, num_classes=10)\n"
   ]
  },
  {
   "cell_type": "code",
   "execution_count": 3,
   "id": "c01dc76f",
   "metadata": {},
   "outputs": [],
   "source": [
    "#scaling training data set \n",
    "\n",
    "\n",
    "Xtrain_shaped = Xtrain.reshape(Xtrain.shape[0], -1)\n",
    "Xtest_shaped = Xtest.reshape(Xtest.shape[0], -1)\n",
    "\n",
    "Xtrain_std = Xtrain_shaped/ 255\n",
    "Xtest_std= Xtest_shaped / 255\n",
    "\n",
    "Xtrain_std = Xtrain_std[:10000]\n",
    "Ytrain = Ytrain[:10000]\n",
    "\n",
    "# Xmean = Xtrain.mean(axis=0)\n",
    "# # Substract means\n",
    "# Xtrn_nm = Xtrain - Xmean\n",
    "# Xtst_nm = Xtest - Xmean\n",
    "#reshapedXtrain = Xtrn_nm.reshape(60000, 784)\n"
   ]
  },
  {
   "cell_type": "code",
   "execution_count": null,
   "id": "1650d40b",
   "metadata": {},
   "outputs": [],
   "source": [
    "def nnclassifier(hidden_layer_sizes,\n",
    "                    activation,\n",
    "                    solver,\n",
    "                    alpha,\n",
    "                    learning_rate_init,\n",
    "                    max_iter,\n",
    "                    n_iter_no_change,\n",
    "                    random_state):\n",
    "    \n",
    "    nn_clf = MLPClassifier(hidden_layer_sizes,\n",
    "                    activation,\n",
    "                    solver,\n",
    "                    alpha,\n",
    "                    learning_rate_init,\n",
    "                    max_iter,\n",
    "                    n_iter_no_change,\n",
    "                    random_state)\n",
    "    \n",
    "    nn_clf.fit(Xtrain_std, Ytrain)\n",
    "    \n",
    "    return nn_clf\n",
    "    \n",
    "    \n",
    "    "
   ]
  },
  {
   "cell_type": "code",
   "execution_count": 4,
   "id": "ea4a5e05",
   "metadata": {},
   "outputs": [
    {
     "name": "stdout",
     "output_type": "stream",
     "text": [
      "Training accuracy:  0.93\n",
      "Testing accuracy:  0.83\n"
     ]
    },
    {
     "name": "stderr",
     "output_type": "stream",
     "text": [
      "/Users/nikilchandrasekar/opt/anaconda3/lib/python3.9/site-packages/sklearn/linear_model/_logistic.py:814: ConvergenceWarning: lbfgs failed to converge (status=1):\n",
      "STOP: TOTAL NO. of ITERATIONS REACHED LIMIT.\n",
      "\n",
      "Increase the number of iterations (max_iter) or scale the data as shown in:\n",
      "    https://scikit-learn.org/stable/modules/preprocessing.html\n",
      "Please also refer to the documentation for alternative solver options:\n",
      "    https://scikit-learn.org/stable/modules/linear_model.html#logistic-regression\n",
      "  n_iter_i = _check_optimize_result(\n"
     ]
    }
   ],
   "source": [
    "\n",
    "logreg = LogisticRegression(max_iter=500)\n",
    "logreg.fit(Xtrain_std, Ytrain)\n",
    "print('Training accuracy: ', round(logreg.score(Xtrain_std, Ytrain),2))\n",
    "print('Testing accuracy: ', round(logreg.score(Xtest_std,Ytest ),2))\n"
   ]
  },
  {
   "cell_type": "code",
   "execution_count": 5,
   "id": "ffb7fc13",
   "metadata": {},
   "outputs": [
    {
     "name": "stdout",
     "output_type": "stream",
     "text": [
      "[learning_curve] Training set sizes: [ 750 2437 4125 5812 7500]\n"
     ]
    },
    {
     "name": "stderr",
     "output_type": "stream",
     "text": [
      "[Parallel(n_jobs=3)]: Using backend LokyBackend with 3 concurrent workers.\n",
      "[Parallel(n_jobs=3)]: Done  20 out of  20 | elapsed:  2.7min finished\n"
     ]
    },
    {
     "data": {
      "image/png": "[encoded data removed]",
      "text/plain": [
       "<Figure size 432x288 with 1 Axes>"
      ]
     },
     "metadata": {
      "needs_background": "light"
     },
     "output_type": "display_data"
    }
   ],
   "source": [
    "nn_clf = MLPClassifier(hidden_layer_sizes=(64),\n",
    "                    activation='relu',\n",
    "                    solver='adam',\n",
    "                    alpha=0,\n",
    "                    learning_rate_init=1e-3,\n",
    "                    max_iter=1000,\n",
    "                    n_iter_no_change=25,\n",
    "                    random_state=1)\n",
    "nn_clf.fit(Xtrain_std, Ytrain)\n",
    "\n",
    "\n",
    "train_sizes, train_scores, val_scores = learning_curve(nn_clf, Xtrain_std, Ytrain, cv=4, scoring='accuracy', n_jobs=3,verbose=1)\n",
    "\n",
    "\n",
    "train_mean = np.mean(train_scores, axis = 1)\n",
    "train_std = np.std(train_scores, axis=1)\n",
    "val_mean = np.mean(val_scores, axis=1)\n",
    "val_std = np.std(val_scores, axis=1)\n",
    "\n",
    "plt.plot(train_sizes, train_mean, label='Training score')\n",
    "plt.plot(train_sizes, val_mean, label='Cross-validation score')\n",
    "plt.title('Learning curve')\n",
    "plt.xlabel('Training Size')\n",
    "plt.ylabel('Accuracy score')\n",
    "plt.legend(loc='best')\n",
    "plt.show()\n",
    "           \n",
    "#print(nn_clf.score(Xtrain_std, Ytrain))\n",
    "\n",
    "\n",
    "\n",
    "# fig, ax = plt.subplots(figsize=(6,4))\n",
    "# ax.plot(nn_clf.loss_curve_)\n",
    "# ax.set_xlabel('Number of iterations')\n",
    "# ax.set_ylabel('Loss')\n"
   ]
  },
  {
   "cell_type": "code",
   "execution_count": null,
   "id": "c0bbccee",
   "metadata": {},
   "outputs": [
    {
     "name": "stdout",
     "output_type": "stream",
     "text": [
      "Fitting 3 folds for each of 10 candidates, totalling 30 fits\n",
      "[CV] END alpha=0.008697490026177835, learning_rate_init=0.007924828983539177; total time=  17.8s\n",
      "[CV] END alpha=0.008697490026177835, learning_rate_init=0.007924828983539177; total time=   9.7s\n",
      "[CV] END alpha=0.008697490026177835, learning_rate_init=0.007924828983539177; total time=  17.0s\n"
     ]
    },
    {
     "name": "stderr",
     "output_type": "stream",
     "text": [
      "/Users/nikilchandrasekar/opt/anaconda3/lib/python3.9/site-packages/sklearn/neural_network/_multilayer_perceptron.py:692: ConvergenceWarning: Stochastic Optimizer: Maximum iterations (1000) reached and the optimization hasn't converged yet.\n",
      "  warnings.warn(\n"
     ]
    },
    {
     "name": "stdout",
     "output_type": "stream",
     "text": [
      "[CV] END alpha=0.005336699231206312, learning_rate_init=0.0001; total time= 2.0min\n"
     ]
    },
    {
     "name": "stderr",
     "output_type": "stream",
     "text": [
      "/Users/nikilchandrasekar/opt/anaconda3/lib/python3.9/site-packages/sklearn/neural_network/_multilayer_perceptron.py:692: ConvergenceWarning: Stochastic Optimizer: Maximum iterations (1000) reached and the optimization hasn't converged yet.\n",
      "  warnings.warn(\n"
     ]
    },
    {
     "name": "stdout",
     "output_type": "stream",
     "text": [
      "[CV] END alpha=0.005336699231206312, learning_rate_init=0.0001; total time= 1.9min\n"
     ]
    }
   ],
   "source": [
    "alphas = np.logspace(-3, -0, 100)\n",
    "learning_rates = np.logspace(-4, -2, 100)\n",
    "parameters = {'learning_rate_init':learning_rates, 'alpha':alphas}\n",
    "\n",
    "\n",
    "\n",
    "clf = RandomizedSearchCV(nn_clf, parameters, scoring='accuracy', n_iter=10, cv=3, verbose=2, n_jobs=1)\n",
    "\n",
    "clf.fit(Xtrain_std, Ytrain)\n",
    "clf.best_params_\n",
    "\n"
   ]
  },
  {
   "cell_type": "code",
   "execution_count": null,
   "id": "f51be502",
   "metadata": {},
   "outputs": [],
   "source": []
  }
 ],
 "metadata": {
  "kernelspec": {
   "display_name": "Python 3 (ipykernel)",
   "language": "python",
   "name": "python3"
  },
  "language_info": {
   "codemirror_mode": {
    "name": "ipython",
    "version": 3
   },
   "file_extension": ".py",
   "mimetype": "text/x-python",
   "name": "python",
   "nbconvert_exporter": "python",
   "pygments_lexer": "ipython3",
   "version": "3.9.12"
  }
 },
 "nbformat": 4,
 "nbformat_minor": 5
}
